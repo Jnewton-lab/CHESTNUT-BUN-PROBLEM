{
 "cells": [
  {
   "cell_type": "markdown",
   "metadata": {
    "id": "yUaBhmrA-Mzo"
   },
   "source": [
    "# [Problem] The day when chestnut buns cover the solar system"
   ]
  },
  {
   "cell_type": "code",
   "execution_count": 3,
   "metadata": {
    "colab": {
     "base_uri": "https://localhost:8080/"
    },
    "id": "bdL6cGsfwxsT",
    "outputId": "8e17ddc4-d752-4130-9fb0-26e841272c14"
   },
   "outputs": [
    {
     "name": "stdout",
     "output_type": "stream",
     "text": [
      "The Time the chestnut buns takes to cover the solar system is: 90 Minutes\n"
     ]
    }
   ],
   "source": [
    "def solar_system(s_size):\n",
    "\n",
    "    #According to solar system exploration am Asssuming that the size of the solar system is about 93000000 in Astronomical unit\n",
    "    solar_system_size=93000000\n",
    "\n",
    "    time=0\n",
    "    while True:\n",
    "        if s_size>=solar_system_size:\n",
    "            break\n",
    "        else:\n",
    "            s_size*=2\n",
    "            time+=5\n",
    "    return print(\"The Time the chestnut buns takes to cover the solar system is: {} Minutes\".format(time))\n",
    "\n",
    "solar_system(500)"
   ]
  },
  {
   "cell_type": "markdown",
   "metadata": {},
   "source": [
    "# The time it takes for the Tokyo Dome to fill up when you sprinkle a ball with Byvine"
   ]
  },
  {
   "cell_type": "code",
   "execution_count": 31,
   "metadata": {
    "colab": {
     "base_uri": "https://localhost:8080/",
     "height": 312
    },
    "id": "7QxGD68YGfd5",
    "outputId": "3a4b21a6-8fc0-48b1-c717-7c135ba20dda"
   },
   "outputs": [
    {
     "name": "stdout",
     "output_type": "stream",
     "text": [
      "25 Minutes\n"
     ]
    },
    {
     "data": {
      "image/png": "[encoded data removed]",
      "text/plain": [
       "<Figure size 432x288 with 1 Axes>"
      ]
     },
     "metadata": {
      "needs_background": "light"
     },
     "output_type": "display_data"
    }
   ],
   "source": [
    "def Tokyo_Dome(TD_size):\n",
    "    tokyo_dome_size=17373.6 #It has a maximum total capacity of 57,000 = 17373.6 in meters\n",
    "    time=0\n",
    "    minutes=[]\n",
    "    size=[]\n",
    "    while True:\n",
    "        if TD_size>=tokyo_dome_size:\n",
    "            break\n",
    "        else:\n",
    "            TD_size*=2\n",
    "            time+=5\n",
    "            minutes.append(time)\n",
    "            size.append(TD_size)\n",
    "    \n",
    "    import matplotlib.pyplot as plt\n",
    "    \n",
    "    plt.title(\"Graph showing TOKYO DOME Situation\")\n",
    "    plt.xlabel('Time in Minutes');\n",
    "    plt.ylabel('Size of Tokyo Dome');\n",
    "    plt.plot(minutes,size, linestyle = 'dotted',linewidth = '10',color='hotpink')\n",
    "    plt.grid()\n",
    "    \n",
    "    return print(\"{} Minutes\".format(time))\n",
    "Tokyo_Dome(600)"
   ]
  },
  {
   "cell_type": "code",
   "execution_count": null,
   "metadata": {},
   "outputs": [],
   "source": []
  },
  {
   "cell_type": "code",
   "execution_count": null,
   "metadata": {},
   "outputs": [],
   "source": []
  }
 ],
 "metadata": {
  "colab": {
   "collapsed_sections": [],
   "name": "Week1 _ Kuri manju problem.ipynb",
   "provenance": []
  },
  "kernelspec": {
   "display_name": "Python 3",
   "language": "python",
   "name": "python3"
  },
  "language_info": {
   "codemirror_mode": {
    "name": "ipython",
    "version": 3
   },
   "file_extension": ".py",
   "mimetype": "text/x-python",
   "name": "python",
   "nbconvert_exporter": "python",
   "pygments_lexer": "ipython3",
   "version": "3.8.5"
  }
 },
 "nbformat": 4,
 "nbformat_minor": 1
}
